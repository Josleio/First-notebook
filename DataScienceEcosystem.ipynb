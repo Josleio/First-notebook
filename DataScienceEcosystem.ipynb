{
 "cells": [
  {
   "cell_type": "markdown",
   "id": "28f84cfe-9894-4e42-a140-1808e33c061d",
   "metadata": {},
   "source": [
    "# Data Science Tools and Ecosystem"
   ]
  },
  {
   "cell_type": "markdown",
   "id": "f138c043-331c-4835-9bed-5e568ebb8e5c",
   "metadata": {},
   "source": [
    "In this notebook, Data Science Tools and Ecosystem are summarized."
   ]
  },
  {
   "cell_type": "markdown",
   "id": "aad6d4c3-74ee-460b-805a-2290f2830c4b",
   "metadata": {},
   "source": [
    "**objectives:**\n",
    "* List popular languages for Data Science\n",
    "* Libraries\n",
    "* Development tools in Data Science\n",
    "* Simple Python"
   ]
  },
  {
   "cell_type": "markdown",
   "id": "e80b6165-2637-437e-9ef6-f51d4d9019ce",
   "metadata": {},
   "source": [
    "Some of the popular languages that Data Scientists use are:\n",
    "1. Python\n",
    "2. R\n",
    "3. Julia\n",
    "4. Java"
   ]
  },
  {
   "cell_type": "markdown",
   "id": "21be5a3b-b352-4c88-9d38-ba8eab532688",
   "metadata": {},
   "source": [
    "Libraries:\n",
    "1. Pandas\n",
    "2. Numpy\n",
    "3. TensorFlow"
   ]
  },
  {
   "cell_type": "markdown",
   "id": "9560eff0-94b5-4b51-be42-8eef7c53acef",
   "metadata": {},
   "source": [
    "Data Science Tools"
   ]
  },
  {
   "cell_type": "markdown",
   "id": "bd3812b1-8bce-4fb9-a0bc-b5682e90cb49",
   "metadata": {},
   "source": [
    "Development tools |\n",
    "-----------------\n",
    "Jupyter\n",
    "Anaconda\n",
    "Spyder"
   ]
  },
  {
   "cell_type": "markdown",
   "id": "05039a80-2564-44c7-9762-a59fbbe42f00",
   "metadata": {},
   "source": [
    "### Below are a few examples of evaluating arithmetic expressions in Python"
   ]
  },
  {
   "cell_type": "code",
   "execution_count": 16,
   "id": "b5b3afb6-0ca1-403d-a16e-890dfef8d54b",
   "metadata": {},
   "outputs": [
    {
     "data": {
      "text/plain": [
       "17"
      ]
     },
     "execution_count": 16,
     "metadata": {},
     "output_type": "execute_result"
    }
   ],
   "source": [
    "# This a simple arithmetic expression to mutiply then add integers\n",
    "(3*4)+5"
   ]
  },
  {
   "cell_type": "code",
   "execution_count": 26,
   "id": "1608dace-cd19-4dda-aa48-bfb6f2f67719",
   "metadata": {},
   "outputs": [
    {
     "name": "stdin",
     "output_type": "stream",
     "text": [
      "insert minutes 200\n"
     ]
    },
    {
     "name": "stdout",
     "output_type": "stream",
     "text": [
      "200 minutes are equal to 3.3333333333333335 hours\n"
     ]
    }
   ],
   "source": [
    "# This will turn minutes to hours\n",
    "m = int(input(\"insert minutes\"))\n",
    "result = m / 60\n",
    "h = result\n",
    "print(f\"{m} minutes are equal to {h} hours\")"
   ]
  },
  {
   "cell_type": "markdown",
   "id": "d02ac19c-9410-411e-99f7-eb87e0238f8f",
   "metadata": {},
   "source": [
    "## Author"
   ]
  },
  {
   "cell_type": "markdown",
   "id": "913ef754-cc1c-468d-b648-f1e24b396bf8",
   "metadata": {},
   "source": [
    "Valentina"
   ]
  },
  {
   "cell_type": "code",
   "execution_count": null,
   "id": "f4b3413b-8b2e-4915-b07c-db1cf3147e51",
   "metadata": {},
   "outputs": [],
   "source": []
  }
 ],
 "metadata": {
  "kernelspec": {
   "display_name": "Python 3 (ipykernel)",
   "language": "python",
   "name": "python3"
  },
  "language_info": {
   "codemirror_mode": {
    "name": "ipython",
    "version": 3
   },
   "file_extension": ".py",
   "mimetype": "text/x-python",
   "name": "python",
   "nbconvert_exporter": "python",
   "pygments_lexer": "ipython3",
   "version": "3.12.4"
  }
 },
 "nbformat": 4,
 "nbformat_minor": 5
}
